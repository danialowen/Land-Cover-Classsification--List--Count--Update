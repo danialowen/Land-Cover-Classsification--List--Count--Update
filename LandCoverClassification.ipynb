{
 "cells": [
  {
   "cell_type": "markdown",
   "id": "186c0ae8-4f19-4245-b079-f5b072752ddf",
   "metadata": {},
   "source": [
    "# Land Cover Classification Values, Count, and Update"
   ]
  },
  {
   "cell_type": "markdown",
   "id": "d2592080-7416-417a-b74f-181f2b38fd9f",
   "metadata": {},
   "source": [
    "In this notebook, there are three tasks: \n",
    "- How to get discrete/unique values from a raster layer\n",
    "- How to count the number of pixels in each discrete/unique value\n",
    "- How to update the values of a raster layer with another. This code is particularly useful when wanting to update a part of the values of a raster layer, not the entire layer.  "
   ]
  },
  {
   "cell_type": "code",
   "execution_count": 1,
   "id": "2cfa0d54-972f-424e-9027-faf7b4a23c40",
   "metadata": {},
   "outputs": [],
   "source": [
    "# Import libraries\n",
    "import rasterio\n",
    "import numpy as np\n",
    "from rasterio.plot import show\n",
    "import time"
   ]
  },
  {
   "cell_type": "markdown",
   "id": "3cc48dda-5681-4a6d-bb31-4c292e46fa73",
   "metadata": {},
   "source": [
    "---\n",
    "### Land Cover Classification: Unique Classes\n",
    "\n",
    "In this section, we are wanting to get all discrete/unique classes in a raster layer. The first section, `function`, includes the function created to get all unique values, and the `input` section is where you input your raster layer of interest and print all discrete/unique values."
   ]
  },
  {
   "cell_type": "markdown",
   "id": "06d1da16-4197-491e-8b43-e5a039fcdfcb",
   "metadata": {},
   "source": [
    "#### Function"
   ]
  },
  {
   "cell_type": "code",
   "execution_count": 2,
   "id": "1e650a7b-27ca-439e-8962-411f35a3ee76",
   "metadata": {},
   "outputs": [],
   "source": [
    "# The function which will return the unique classes in that file\n",
    "def get_unique_class_values(raster_path):\n",
    "    with rasterio.open(raster_path) as src:\n",
    "        raster_data = src.read(1)\n",
    "        nodata_value = src.nodata\n",
    "\n",
    "        unique_values = np.unique(raster_data[raster_data != nodata_value])\n",
    "        return unique_values"
   ]
  },
  {
   "cell_type": "markdown",
   "id": "c2e18945-44df-4e92-86a8-4b1898be6616",
   "metadata": {},
   "source": [
    "#### Input"
   ]
  },
  {
   "cell_type": "code",
   "execution_count": null,
   "id": "03af4c3d-36cd-46f6-9664-5d86ac31ec61",
   "metadata": {},
   "outputs": [],
   "source": [
    "%%time\n",
    "# Replace with your file path\n",
    "raster_file = 'file_path_to_your_raster_file_here.tif'\n",
    "\n",
    "# Get unique class values from the LCA raster\n",
    "unique_class_values = get_unique_class_values(raster_file)\n",
    "\n",
    "# Print the unique class values\n",
    "print(\"Unique Class Values:\", unique_class_values)"
   ]
  },
  {
   "cell_type": "markdown",
   "id": "bc02d517-877f-4864-b10e-8e481aa603fa",
   "metadata": {},
   "source": [
    "---\n",
    "### Land Cover Classification: Count Pixels in each Class\n",
    "\n",
    "Now that we have all discrete/unique values, this section now counts the number of pixels in each class/value. To do this, we first create a function in the `function` section, and then apply to function to our data in the `input` section."
   ]
  },
  {
   "cell_type": "markdown",
   "id": "6922ef66-a5c7-4d56-8da7-41a9baafe4ea",
   "metadata": {},
   "source": [
    "#### Function"
   ]
  },
  {
   "cell_type": "code",
   "execution_count": 3,
   "id": "656651d1-e8da-4dfb-af83-06c061a21931",
   "metadata": {},
   "outputs": [],
   "source": [
    "# The function which can count the pixel count for each class\n",
    "def count_pixels_by_class(raster_path, class_values):\n",
    "    with rasterio.open(raster_path) as src:\n",
    "        raster_data = src.read(1)\n",
    "        nodata_value = src.nodata\n",
    "\n",
    "        pixel_counts = {}\n",
    "        \n",
    "        for class_value in class_values:\n",
    "            if class_value != nodata_value:\n",
    "                count = np.sum(raster_data == class_value)\n",
    "                pixel_counts[class_value] = count\n",
    "\n",
    "        return pixel_counts"
   ]
  },
  {
   "cell_type": "markdown",
   "id": "3feef16b-b513-45eb-98ee-6290c576be60",
   "metadata": {},
   "source": [
    "#### Input"
   ]
  },
  {
   "cell_type": "code",
   "execution_count": null,
   "id": "0dfc09a6-1114-457a-ba42-05be6ea5dd60",
   "metadata": {},
   "outputs": [],
   "source": [
    "# First, define the class values that you want to count. These values will most likely be obtained from the previous step\n",
    "\n",
    "# Define class values to count\n",
    "class_values_to_count = [a, list, of, values, here, e.g., 1, 2, 3, 4]  # Modify as needed"
   ]
  },
  {
   "cell_type": "code",
   "execution_count": null,
   "id": "a2d0ca36-a485-4aa3-b29e-5984c94295d1",
   "metadata": {},
   "outputs": [],
   "source": [
    "%%time\n",
    "# Set the file path to your raster file\n",
    "raster_file = 'file_path_to_your_raster_file_here.tif'\n",
    "\n",
    "# Count pixels in each class within the LCA raster\n",
    "pixel_counts = count_pixels_by_class(raster_file, class_values_to_count)\n",
    "\n",
    "# Print the pixel counts\n",
    "for class_value, count in pixel_counts.items():\n",
    "    print(f\"Class {class_value}: {count} pixels\")"
   ]
  },
  {
   "cell_type": "markdown",
   "id": "fb6a1ccd-fa65-4f74-b83b-5badd445b53b",
   "metadata": {},
   "source": [
    "## Update Raster Layer with Values From Another Raster Layer "
   ]
  },
  {
   "cell_type": "markdown",
   "id": "ee2d59b4-9727-4761-8425-736e3c0d0870",
   "metadata": {},
   "source": [
    "The purpose of this code is to be able to update the values in a raster layer, with another raster layer which has a different extent. In other words, the values of the original raster layer (LCA) will only update when values in the new raster layer (LCB) are present.\n",
    "\n",
    "To be able to do this, the extent of both layers must be the same (which sounds like it defeats the object of the section). However, this can be achieved by filling the partial layer with no data values where there is no information. This can be done in QGIS - export the raster layer and set the layer extent by the original raster layer (LCA).  "
   ]
  },
  {
   "cell_type": "code",
   "execution_count": null,
   "id": "7e02ff8b-e66d-4c00-92e4-276b979fa087",
   "metadata": {},
   "outputs": [],
   "source": [
    "%%time\n",
    "# Load the original raster layer (LCA) and new raster layer (LCB) \n",
    "with rasterio.open('your_original_raster_layer.tif') as src_lca, rasterio.open('your_new_raster_layer.tif') as src_lcb:\n",
    "    \n",
    "    # Read the data from LCB\n",
    "    lcb_data = src_lcb.read(1)\n",
    "\n",
    "    # Read the data from LCA and update LCA pixel values where LCB has existing (i.e. non-null) values\n",
    "    lca_data = src_lca.read(1)\n",
    "    lca_data[lcb_data != src_lcb.nodata] = lcb_data[lcb_data != src_lcb.nodata]\n",
    "\n",
    "    # Update metadata\n",
    "    profile = src_lca.profile\n",
    "\n",
    "    # Write the updated LCA data to a new raster\n",
    "    with rasterio.open('file_path_to_new_raster_layer.tif', 'w', **profile) as dst:\n",
    "        dst.write(lca_data, 1)"
   ]
  },
  {
   "cell_type": "markdown",
   "id": "25ba572b-f3d4-43d6-9276-bc20264a1e73",
   "metadata": {},
   "source": [
    "#### Example of update on multiple conditions\n",
    "\n",
    "The first section updates the all pixel values in LCA if pixel values exist in LCB. This section is an example of if we only want to update the values in LCA based on a condition or multiple conditions. For example, in this section, we want to change the value of pixels in the original raster layer (LCA) to 51 **if** the pixel value is equal to `50` in the original raster layer, and equal to `4` in the new raster layer. "
   ]
  },
  {
   "cell_type": "code",
   "execution_count": null,
   "id": "14a76397-0a41-4ee1-91a2-3033a7d5c6cf",
   "metadata": {},
   "outputs": [],
   "source": [
    "%%time\n",
    "# Load the original raster layer (LCA) and new raster layer (LCB) \n",
    "with rasterio.open('your_original_raster_layer.tif') as src_lca, rasterio.open('your_new_raster_layer.tif') as src_lcb:\n",
    "    \n",
    "    # Read the data from LCB\n",
    "    lcb_data = src_lcb.read(1)\n",
    "\n",
    "    # Update LCA pixel values to 51 where LCB is equal to coniferous forest (4) and the original layer is equal to trees (50)\n",
    "    lca_data = src_lca.read(1)\n",
    "    lca_data[(lcb_data == 4) & (lca_data == 50)] = 51\n",
    "\n",
    "    # Update metadata if necessary\n",
    "    profile = src_lca.profile\n",
    "\n",
    "    # Write the updated LCA data to a new raster\n",
    "    with rasterio.open('file_path_to_new_raster_layer.tif', 'w', **profile) as dst:\n",
    "        dst.write(lca_data, 1)"
   ]
  }
 ],
 "metadata": {
  "kernelspec": {
   "display_name": "Python 3 (ipykernel)",
   "language": "python",
   "name": "python3"
  },
  "language_info": {
   "codemirror_mode": {
    "name": "ipython",
    "version": 3
   },
   "file_extension": ".py",
   "mimetype": "text/x-python",
   "name": "python",
   "nbconvert_exporter": "python",
   "pygments_lexer": "ipython3",
   "version": "3.10.9"
  }
 },
 "nbformat": 4,
 "nbformat_minor": 5
}
